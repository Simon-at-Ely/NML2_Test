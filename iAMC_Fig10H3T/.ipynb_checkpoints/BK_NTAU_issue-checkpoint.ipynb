{
 "cells": [
  {
   "cell_type": "markdown",
   "metadata": {},
   "source": [
    "#BK Channel nTau plotting issue#\n",
    "Having problems getting the equation to plot on the same line as plot for NML2 conversion variable plot prodcuced by pynml-channelanalysis. ntau = 0.005/Q10 so calculate ntau:"
   ]
  },
  {
   "cell_type": "code",
   "execution_count": 5,
   "metadata": {
    "collapsed": false
   },
   "outputs": [
    {
     "name": "stdout",
     "output_type": "stream",
     "text": [
      "0.000719223093339\n"
     ]
    }
   ],
   "source": [
    "q10 = (3**((35 - 17.350264793)/10))\n",
    "ntau = 0.005/q10\n",
    "print ntau"
   ]
  },
  {
   "cell_type": "markdown",
   "metadata": {},
   "source": [
    "Compare with values in file:"
   ]
  },
  {
   "cell_type": "code",
   "execution_count": 7,
   "metadata": {
    "collapsed": false
   },
   "outputs": [
    {
     "name": "stdout",
     "output_type": "stream",
     "text": [
      "Populating the interactive namespace from numpy and matplotlib\n",
      "          0         1\n",
      "0  0.000000  0.000719\n",
      "1  0.000003  0.000719\n",
      "2  0.000005  0.000719\n",
      "3  0.000007  0.000719\n",
      "4  0.000010  0.000719\n"
     ]
    }
   ],
   "source": [
    "#load python packages\n",
    "%pylab inline\n",
    "import pandas as pd\n",
    "\n",
    "#load data\n",
    "ntau = pd.read_csv('BK_IAMC_ChannelML.n.tau.lems.35.dat', header=None, delim_whitespace=True)\n",
    "print ntau.head()"
   ]
  },
  {
   "cell_type": "markdown",
   "metadata": {},
   "source": [
    "Value in file and calculated values are ~ the same (probably the value is being rounded and is the same, so plot:"
   ]
  },
  {
   "cell_type": "code",
   "execution_count": 2,
   "metadata": {
    "collapsed": false
   },
   "outputs": [
    {
     "name": "stdout",
     "output_type": "stream",
     "text": [
      "Populating the interactive namespace from numpy and matplotlib\n"
     ]
    },
    {
     "data": {
      "text/plain": [
       "<matplotlib.legend.Legend at 0x7febb46cc390>"
      ]
     },
     "execution_count": 2,
     "metadata": {},
     "output_type": "execute_result"
    },
    {
     "data": {
      "image/png": "[encoded data removed]",
      "text/plain": [
       "<matplotlib.figure.Figure at 0x7feb94b85b90>"
      ]
     },
     "metadata": {},
     "output_type": "display_data"
    }
   ],
   "source": [
    "#load python packages\n",
    "%pylab inline\n",
    "import pandas as pd\n",
    "\n",
    "#load data\n",
    "ntau = pd.read_csv('BK_IAMC_ChannelML.n.tau.lems.35.dat', header=None, delim_whitespace=True)\n",
    "vm = pd.read_csv('BK_IAMC_ChannelML.rampV.lems.35.dat', header=None, delim_whitespace=True)\n",
    "\n",
    "#load equations\n",
    "q10 = (3**((35 - 17.350264793)/10))\n",
    "v = np.linspace(-0.100, 0.100, 20)\n",
    "ntaue = np.array([0.005, 0.005, 0.005, 0.005, 0.005, 0.005, 0.005, 0.005, 0.005, 0.005, 0.005, 0.005, 0.005, 0.005, 0.005, 0.005, 0.005, 0.005, 0.005, 0.005])\n",
    "ntaueq = ntaue/q10\n",
    "\n",
    "#SI units so don't convert to physiological units\n",
    "#vm[1] = vm[1]*1000\n",
    "#ntau[1] = ntau[1]*1000\n",
    "\n",
    "#plot Gate Variables\n",
    "plt.plot(vm[1], ntau[1], v, ntaueq, 'o')\n",
    "#plt.title('BK ntau Gate Variable')\n",
    "plt.ylabel('ntau(ms)')\n",
    "plt.xlabel('Vmemb (mV)')\n",
    "#plt.legend(['n tau'], loc='upper right')\n",
    "plt.legend(['n tau', 'tau equation'], loc='upper right')"
   ]
  },
  {
   "cell_type": "markdown",
   "metadata": {},
   "source": [
    "Calculated (equation) values are plotting at the right position on the y axis, while the file values are being plotted at 10,000 times the value. There is a header on the graph that says 1e-12+7.19223093e-4, no idea what this means. On a Google search I found this ax.get_xaxis().get_major_formatter().set_useOffset(False) so will try."
   ]
  },
  {
   "cell_type": "code",
   "execution_count": 12,
   "metadata": {
    "collapsed": false
   },
   "outputs": [
    {
     "name": "stdout",
     "output_type": "stream",
     "text": [
      "Populating the interactive namespace from numpy and matplotlib\n"
     ]
    },
    {
     "data": {
      "text/plain": [
       "<matplotlib.legend.Legend at 0x7feb94392f90>"
      ]
     },
     "execution_count": 12,
     "metadata": {},
     "output_type": "execute_result"
    },
    {
     "data": {
      "image/png": "[encoded data removed]",
      "text/plain": [
       "<matplotlib.figure.Figure at 0x7feb944b3490>"
      ]
     },
     "metadata": {},
     "output_type": "display_data"
    }
   ],
   "source": [
    "#load python packages\n",
    "%pylab inline\n",
    "import pandas as pd\n",
    "\n",
    "#load data\n",
    "ntau = pd.read_csv('BK_IAMC_ChannelML.n.tau.lems.35.dat', header=None, delim_whitespace=True)\n",
    "vm = pd.read_csv('BK_IAMC_ChannelML.rampV.lems.35.dat', header=None, delim_whitespace=True)\n",
    "\n",
    "#load equations\n",
    "q10 = (3**((35 - 17.350264793)/10))\n",
    "v = np.linspace(-0.100, 0.100, 20)\n",
    "ntaue = np.array([0.005, 0.005, 0.005, 0.005, 0.005, 0.005, 0.005, 0.005, 0.005, 0.005, 0.005, 0.005, 0.005, 0.005, 0.005, 0.005, 0.005, 0.005, 0.005, 0.005])\n",
    "ntaueq = ntaue/q10\n",
    "\n",
    "#SI units so don't convert to physiological units\n",
    "#vm[1] = vm[1]*1000\n",
    "#ntau[1] = ntau[1]*1000\n",
    "\n",
    "#plot Gate Variables\n",
    "plt.plot(vm[1], ntau[1], v, ntaueq, 'o')\n",
    "#plt.title('BK ntau Gate Variable')\n",
    "plt.ylabel('ntau(ms)')\n",
    "plt.xlabel('Vmemb (mV)')\n",
    "ax = plt.gca()\n",
    "ax.get_xaxis().get_major_formatter().set_useOffset(False)\n",
    "#plt.legend(['n tau'], loc='upper right')\n",
    "plt.legend(['n tau', 'tau equation'], loc='upper right')"
   ]
  },
  {
   "cell_type": "markdown",
   "metadata": {},
   "source": [
    "That did not work... have tried others like ax.get_xaxis().get_major_formatter().set_scientific(False) that also did not work will search a bit more..."
   ]
  }
 ],
 "metadata": {
  "kernelspec": {
   "display_name": "Python 2",
   "language": "python",
   "name": "python2"
  },
  "language_info": {
   "codemirror_mode": {
    "name": "ipython",
    "version": 2
   },
   "file_extension": ".py",
   "mimetype": "text/x-python",
   "name": "python",
   "nbconvert_exporter": "python",
   "pygments_lexer": "ipython2",
   "version": "2.7.10"
  }
 },
 "nbformat": 4,
 "nbformat_minor": 0
}
