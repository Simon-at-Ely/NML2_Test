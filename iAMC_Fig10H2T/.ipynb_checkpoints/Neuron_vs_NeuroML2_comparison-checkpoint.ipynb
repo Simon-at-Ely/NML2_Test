{
 "cells": [
  {
   "cell_type": "code",
   "execution_count": 1,
   "metadata": {
    "collapsed": false
   },
   "outputs": [
    {
     "data": {
      "text/plain": [
       "<matplotlib.legend.Legend at 0x7fcf2850b8d0>"
      ]
     },
     "execution_count": 1,
     "metadata": {},
     "output_type": "execute_result"
    }
   ],
   "source": [
    "#load python packages\n",
    "#%pylab inline\n",
    "import pandas as pd\n",
    "import matplotlib.pyplot as plt\n",
    "%matplotlib qt4\n",
    "\n",
    "#load data\n",
    "NML2 = pd.read_csv('genNeuroML2_2s.dat', header=None, delim_whitespace=True)\n",
    "Neuron = pd.read_csv('genNeuron_2s.dat', header=None, delim_whitespace=True)\n",
    "t = pd.read_csv('time.dat', header=None, delim_whitespace=True)\n",
    "\n",
    "#convert to physiological units\n",
    "NML2[1] = NML2[1]*1000\n",
    "\n",
    "#plot Vmemb\n",
    "plt.plot(t, Neuron, t, NML2[1])\n",
    "plt.xlabel('time (ms)')\n",
    "plt.ylabel('Vmemb(mV)')\n",
    "plt.title('Comparison NeuroML2 comparison with original over 2 second simulation')\n",
    "plt.legend(['Neuron', 'NeuroML2'], loc='upper left')"
   ]
  },
  {
   "cell_type": "code",
   "execution_count": null,
   "metadata": {
    "collapsed": true
   },
   "outputs": [],
   "source": []
  }
 ],
 "metadata": {
  "kernelspec": {
   "display_name": "Python 2",
   "language": "python",
   "name": "python2"
  },
  "language_info": {
   "codemirror_mode": {
    "name": "ipython",
    "version": 2
   },
   "file_extension": ".py",
   "mimetype": "text/x-python",
   "name": "python",
   "nbconvert_exporter": "python",
   "pygments_lexer": "ipython2",
   "version": "2.7.10"
  }
 },
 "nbformat": 4,
 "nbformat_minor": 0
}
